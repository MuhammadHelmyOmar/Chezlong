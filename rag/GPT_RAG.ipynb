{
  "nbformat": 4,
  "nbformat_minor": 0,
  "metadata": {
    "colab": {
      "provenance": [],
      "gpuType": "T4"
    },
    "kernelspec": {
      "name": "python3",
      "display_name": "Python 3"
    },
    "language_info": {
      "name": "python"
    },
    "accelerator": "GPU"
  },
  "cells": [
    {
      "cell_type": "markdown",
      "source": [
        "# Building RAG Chatbot with OpenAI and Pinecone"
      ],
      "metadata": {
        "id": "sN6eIt4hceAU"
      }
    },
    {
      "cell_type": "markdown",
      "source": [
        "## Building Knowledge Base"
      ],
      "metadata": {
        "id": "_a74BiNIaHVz"
      }
    },
    {
      "cell_type": "markdown",
      "source": [
        "#### HF Data"
      ],
      "metadata": {
        "id": "EBgJ5NwlFnXg"
      }
    },
    {
      "cell_type": "code",
      "source": [
        "!pip install -qU datasets langchain openai pinecone-client==2.2.4 tiktoken"
      ],
      "metadata": {
        "id": "i6Ksg_d9k_ZK"
      },
      "execution_count": null,
      "outputs": []
    },
    {
      "cell_type": "code",
      "source": [
        "from datasets import load_dataset"
      ],
      "metadata": {
        "id": "kNQYL0yIFmnW"
      },
      "execution_count": null,
      "outputs": []
    },
    {
      "cell_type": "code",
      "source": [
        "data = load_dataset(\"MuhammadHelmy/nafsy\", split='train')"
      ],
      "metadata": {
        "id": "KS8kYvAAlD02"
      },
      "execution_count": null,
      "outputs": []
    },
    {
      "cell_type": "markdown",
      "source": [
        "#### Embedding Model"
      ],
      "metadata": {
        "id": "dg7x8hzVYKHA"
      }
    },
    {
      "cell_type": "code",
      "source": [
        "!pip install -qU sentence-transformers"
      ],
      "metadata": {
        "id": "7sevSkjXZwXw"
      },
      "execution_count": null,
      "outputs": []
    },
    {
      "cell_type": "code",
      "source": [
        "from langchain.embeddings.huggingface import HuggingFaceEmbeddings\n",
        "from langchain.embeddings.openai import OpenAIEmbeddings"
      ],
      "metadata": {
        "id": "ivIyRytNYNo6"
      },
      "execution_count": null,
      "outputs": []
    },
    {
      "cell_type": "code",
      "source": [
        "embedding_model = HuggingFaceEmbeddings(\n",
        "    model_name = \"sentence-transformers/paraphrase-multilingual-MiniLM-L12-v2\",\n",
        "    model_kwargs = {\"device\":\"cuda:0\"}\n",
        ")"
      ],
      "metadata": {
        "id": "Mweq5vDXY7tm"
      },
      "execution_count": null,
      "outputs": []
    },
    {
      "cell_type": "markdown",
      "source": [
        "#### Pinecone index"
      ],
      "metadata": {
        "id": "nwIJbIQtF1Dv"
      }
    },
    {
      "cell_type": "code",
      "source": [
        "import pinecone as pc\n",
        "import time\n",
        "from tqdm import tqdm\n",
        "from google.colab import userdata"
      ],
      "metadata": {
        "id": "rdMRUxl3aK1A"
      },
      "execution_count": null,
      "outputs": []
    },
    {
      "cell_type": "code",
      "source": [
        "pc.init(\n",
        "    api_key = userdata.get(\"PINECONE_API_KEY\"),\n",
        "    environment = userdata.get(\"PINECONE_ENVIRONMENT\")\n",
        ")"
      ],
      "metadata": {
        "id": "B8pzLj68CGrh"
      },
      "execution_count": null,
      "outputs": []
    },
    {
      "cell_type": "code",
      "source": [
        "index_name = \"nafsy-rag\"\n",
        "\n",
        "if index_name not in pc.list_indexes():\n",
        "  pc.create_index(\n",
        "      index_name,\n",
        "      dimension = 384,\n",
        "      metric = \"cosine\"\n",
        "  )\n",
        "  while not pc.describe_index(index_name).status['ready']:\n",
        "    time.sleep(1)\n",
        "\n",
        "index = pc.Index(index_name)\n",
        "index.describe_index_stats()"
      ],
      "metadata": {
        "id": "jRc-mvMsGXM4",
        "colab": {
          "base_uri": "https://localhost:8080/"
        },
        "outputId": "1fa0bcf0-5cb7-4aa8-8a7b-b3f86d9a3c15"
      },
      "execution_count": null,
      "outputs": [
        {
          "output_type": "execute_result",
          "data": {
            "text/plain": [
              "{'dimension': 384,\n",
              " 'index_fullness': 0.01884,\n",
              " 'namespaces': {'': {'vector_count': 1884}},\n",
              " 'total_vector_count': 1884}"
            ]
          },
          "metadata": {},
          "execution_count": 18
        }
      ]
    },
    {
      "cell_type": "code",
      "source": [
        "# Run first time only to save the embeddings to pinecone\n",
        "\n",
        "# batch_size = 100 # will be sent to pinecone at each epoch\n",
        "# df = data.to_pandas()\n",
        "\n",
        "# for i in tqdm(range(0, len(df), batch_size)):\n",
        "#     i_end = min(i+batch_size, len(df))\n",
        "#     batch = df.iloc[i:i_end]\n",
        "#     ids = [f\"{id}\" for id in range(i, i_end)]\n",
        "#     texts = [chunk['content'] for _, chunk in batch.iterrows()]\n",
        "#     embeds = embedding_model.embed_documents(texts)\n",
        "#     metadata = [\n",
        "#         {\n",
        "#             \"text\": chunk['content'],\n",
        "#             \"topic\": chunk['topic']\n",
        "#         } for _, chunk in batch.iterrows()\n",
        "#     ]\n",
        "#     index.upsert(vectors=zip(ids, embeds, metadata))\n",
        "\n",
        "# index.describe_index_stats()"
      ],
      "metadata": {
        "id": "tsPoQ7pqy_eD"
      },
      "execution_count": null,
      "outputs": []
    },
    {
      "cell_type": "markdown",
      "source": [
        "## Chatbot"
      ],
      "metadata": {
        "id": "F-dmItHDQQHd"
      }
    },
    {
      "cell_type": "markdown",
      "source": [
        "#### Using Pinecone for Similarity Search"
      ],
      "metadata": {
        "id": "mGI364IXpDxT"
      }
    },
    {
      "cell_type": "code",
      "source": [
        "from langchain.vectorstores import Pinecone"
      ],
      "metadata": {
        "id": "If9NIc0RnQVl"
      },
      "execution_count": null,
      "outputs": []
    },
    {
      "cell_type": "code",
      "source": [
        "text_field = \"text\"\n",
        "vectorstore = Pinecone(index, embedding_model.embed_query, \"text\")"
      ],
      "metadata": {
        "id": "m4mj2RS2nevB"
      },
      "execution_count": null,
      "outputs": []
    },
    {
      "cell_type": "code",
      "source": [
        "query = \"ما هي أعراض الاكتئاب؟\""
      ],
      "metadata": {
        "id": "zb4taloqpHNn"
      },
      "execution_count": null,
      "outputs": []
    },
    {
      "cell_type": "code",
      "source": [
        "vectorstore.similarity_search(query, k=3)"
      ],
      "metadata": {
        "colab": {
          "base_uri": "https://localhost:8080/"
        },
        "id": "iaj8tRpVpTUj",
        "outputId": "801b464b-5697-4ae7-e4ac-cf2440d36d34"
      },
      "execution_count": null,
      "outputs": [
        {
          "output_type": "execute_result",
          "data": {
            "text/plain": [
              "[Document(page_content='إن أعراض الكآبة الاكتئاب شائعة وقد تجتمع بمفردها في الإنسان عند تشخيص مرض الكآبة أو قد تكون موجودة في الأفراد المصابين بأمراض نفسية أخرى وغير نفسية في جميع الأحوال هنالك توجه عام عند الطبيب النفسي وغير النفسي لوصف عقاقير مضادة للكآبة عند شكوى المريض أحيانا من أعراض مرض الكآبة حتى وإن كانت لا تزيد على الاثنين أصبح استعمال هذه العقاقير شائع لدرجة أنها تحتل المرتبة الثانية بعد العقاقير المضادة للتقرح المعدي في عدد الوصفات الطبية في جميع أنحاء العالم الغربي هذا المقال يتناول استعمال العقاقير في الآشخاص المصابين للكآبة دون التطرق إلى مرض الكآبة وتصنيفاته المتعددة وأسبابه وطرق علاجه بدون العقاقير لفهم استعمال العقاقير ضد الاكتئاب هنالك ثلاثة قواعد لا بد من التطرق اليها المسار الطولي النموذجي لمرض الكآبة قياس أعراض الكآبة الأدلة العلمية لفعالية العقاقير هناك الآلاف من الأبحاث العلمية التي تم أجراؤها على المرضى المصابين بالكآبة التي أثبتت بأن هذه العقاقير تساعد المرضى على اجتياز مرحلة الكآبة غير أن الدليل العلمي هو أقوى للعقاقير القديمة من الحديثة وربما لطول مدة استعمالها طبي أما قياس أعراض الكآبة فهو ضرورة قلما يلتزم بها الطبيب النفسي وغير النفسي قبل وبعد وصف هذه العقاقير على عكس علاج ارتفاع ضغط الدم مثلا حيث يتم قياس الضغط قبل وبعد العلاج لمعرفة درجة ارتفاع الضغط على ضوء ذلك لابد من استعمال مقياس معين عند علاج الكآبة إما من الطبيب المعالج أو المريض نفسه وهنالك العديد منها المتوفر عبر الإنترنت في يومنا هذا أما المسار الطولي النموذجي فهنالك أربعة مسارات هي ما يقارب الثلث من الحالات نوبة اكتئاب لا تقل عن أسبوعين ولا تتجاوز السنة الوحدة تتكرر هذه النوبات كل بضعة أعوام تستجيب هذه الحالات للعلاج في أكثر الحالات بصورة كاملة 30 35 لا توجد كأبة مزمنة ويبدأ المرض بنوبة حادة تستجيب جزئيا للعلاج قد تتكرر النوبات الكبيرة بين الحين والآخر قلما تستجيب هذه الحالات للعلاج بصورة كاملة 25 كآبة مزمنة لعدة سنوات يصاحبها نوبات حادة قلما تستجيب للعلاج بصورة مرضية3 تعرف أحيانا بالكآبة المزدوجة double depression كأبة مزمنة لعدة سنوات تتضاعف بحالة اكتئاب شديدة ولكن عند العلاج يتم الشفاء من الكآبة تماما بالطبع هنالك قاعدة رئيسية لا يمكن التغافل عنها وهي أن المريض قد يشفى من نوبة الكآبة', metadata={'topic': 'الكآبة-العقاقير-العلاج-استعمال-القلق-علاج-الحالات-للصرع-استعمال العقاقي-المضادة'}),\n",
              " Document(page_content='العصبية تتواصل فيما بينها مثل سيروتونين ht ونورادرينالين na ما مدى انتشار الإكتئاب يصيب الإكتئاب النفسي من السكان كل عام ومع ذلك فإن أكثر من 85 من مرضى الإكتئاب لا يتلقون علاجا له إما لجهلهم به أو لعدم توفر الخدمات العلاجية لهم هل هناك اضطرابات أخرى تشبه الإكتئاب هناك عدد من الإضطرابات قد تشبه في شكلها الإكتئاب غير أنه لا يتوفر لها العدد الكافي من معايير التشخيص ومن هذه الإضطرابات الإنخفاض العابر في المزاج في أثناء اليوم حالات الحزن والحداد لفقد عزيز وهي طبيعية ما لم تتجاوز الحد المقبول في مجتمع المريض اضطرابات التكيف التي تحدث نتيجة مشكلات الحياة المختلفة مثل الخلافات الإنسانية أو الظروف الطارئة غير المرغوبة الإضطرابات الصحية التي ينتج عنها تأثير مباشر على المزاج مثل اضطرابات الغدد الصماء استخدام المخدرات أو حتى بعض العقاقير العلاجية مثل الهرمونات كيف يمكن أن أعرف إن كنت مصابا بالإكتئاب قم بزيارة قسم الإختبارات النفسية في موقع النفسي وأجر الإختبار المناسب هذه الإختبارات ليست كافية للتشخيص لكنها تساعدك إضافة إلى هذه المعلومات في التعرف على معاناتك ولا تغني عن زيارة الطبيب النفسي كيف يمكن علاج الإكتئاب يمكن علاج حالة الإكتئاب بعدة طرق أهمها مضادات الإكتئاب وهي عقاقير تستخدم لشتى درجات الإكتئاب تعمل على رفع مستويات مادتي سيروتونين ht ونورادرينالين na وهي مأمونة العواقب وليس لها ضرر على المدى الطويل بالنسبة لأجهزة الجسم المختلفة ولا تسبب الإدمان العلاج النفسي غير الدوائي ويستخدم لحالات الإكتئاب البسيطة والمتوسطة ويهدف إلى تعديل أفكار المكتئب التي تتميز بالسلبية والانهزامية وتغيير سلوكه الذي يغلب عليه الإنسحابية والانطواء ويكون العلاج النفسي عادة على شكل جلسات أسبوعية تستغرق كل منها 30 50 دقيقة وذلك لعدة أسابيع العلاج الكهربائي ويستخدم في الحالات الشديدة على شكل جلسات كل يومين حيث يتم تنبيه الدماغ من خلال جهاز خاص لذلك تحت مخدر عام مثلما يحدث في العمليات الجراحية وعلى عكس ما يتوقعه الكثير من الناس فهذا الأسلوب العلاجي ليس صعقا كهربائيا وليس فيه شعور بالألم ماذا يمكن أن يحدث لو لم يعالج الإكتئاب ليس من السهل التنبؤ بما يمكن أن يحدث لأن ذلك يعتمد على نوع الإكتئاب وشدته ولكن الإكتئاب النفسي قد يؤ', metadata={'topic': 'الاكتئاب-الإكتئاب-الهوس-na-سيروتونين-ht-سيروتونين ht-المزاج-جلسات-العلاج'}),\n",
              " Document(page_content='يكون الجبين مقطبا وعضلات الوجه مشدودة وأحيانا تحدث رعشة خفيفة حول الشفتين أو في جفن العين هذه الأعراض تتشابه كثيرا مع أعراض الاكتئاب وعلى الرغم من أن القلق قد يجتمع مع الاكتئاب عند مريض واحد إلا أن الطبيب الفطن يسهل عليه التمييز ومعرفة السبب الحقيقي للأعراض المحور الثاني يسمى محور الجهاز العصبي الذاتي ويتميز بنشاط زائد في عمل الجهاز العصبي المذكور ويترتب على ذلك مجموعة من الأعراض والعلامات مثل العرق وبرودة اليدين ورطوبتهما وجفاف الفم والشعور بالتنميل الخ في اليدين أو القدمين إلا أن أهم عرض في هذا المحور هو خفقان القلب بشدة وبسرعة وغالبا ما يشكو مريض القلق من أن صوت قلبه يشبه قرع الطبول أو أن قلبه ينبض بسرعة جواد في سباق للخيل شدة خفقان قلب المريض بالقلق تزيد من قلقه ومخاوفه إذ يعتقد أنه مصاب بمرض في القلب ولا عجب والحال كذلك أن تتكرر زيارات المصاب بالقلق للأطباء المتخصصين في أمراض القلب ومن علامات زيادة نشاط الجهاز العصبي الذاتي وهو الجزء من الجهاز العصبي الذي يحكم أنشطة الجسم الداخلية غير الإرادية مثل التنفس والهضم وضربات القلب التبول بكثرة والإسهال والشعور بتعب في المعدة بعـد الأكل أو الشعور بآلام مبهمة أي غير محددة الطبيعة والمكان في البطن وقد يكون هناك شعور بوجود شيء ما في الحلق الزور ولا يخفي أن الأعراض والعلامات هنا تتشابه بدرجة كبيرة مع أعراض وعلامات أمراض عضوية أي غير نفسية وتتعلق باضطراب وظيفة عضو أو جهاز في الجسم مثل مرض البول السكري السكر ومثل قرحة المعدة والنزلة المعوية والدوسنتاريا وغير ذلك أما المحور الثالث من محاور أعراض وعلامات القلق فيسمى محور المخاوف وهنا يصف المريض نفسه بأنه خائف بصورة عامة أي أنه خائف من شيء لا يدريه وأن هذا الخوف يصاحبه في جميع أحواله ومن العلامات هنا إطالة التفكير والتأمل خصوصا في أحداث الماضى والتضايق من أمور تافهة وانشغال البال دائما حتى بأمور صغيرة وأهم علامة هنا هي شعور المريض الغامض بأن شيئا ما غير سار سيحدث له أو لأحد أفراد أسرته وكثيرا ما تسمع مريض القلق يقول إنه يشعر بأنه سيموت قريبا أو أنه يفقد القدرة على التحكم في نفسه والمحور الرابع والأخير يسمى محور اليقظة ويشمل من الأعراض والعلامات صعوبة في التركيز على الرغم من أن جميع حواس المريض في حالة انتباه شديد وحتى إذا أفلح المصاب بالقلق في التركيز', metadata={'topic': 'قلق الأمراض-بالقلق-قلق-الخوف-المريض-القلق-الأمراض-الرهاب-الأعراض والعلام-اضطراب قلق الأم'})]"
            ]
          },
          "metadata": {},
          "execution_count": 38
        }
      ]
    },
    {
      "cell_type": "code",
      "source": [
        "# Creating aumented prompt\n",
        "def augment_prompt(query: str):\n",
        "    results = vectorstore.similarity_search(query, k=2)\n",
        "    source_knowledge = '\\n'.join([d.page_content for d in results])\n",
        "    augmented_prompt = f\"\"\"using the contexts below, answer the query. If you did not find enough knowledge in these contexts, answer from your own.\n",
        "    Contexts: {source_knowledge}\n",
        "    Query: {query}\n",
        "    \"\"\"\n",
        "    return augmented_prompt"
      ],
      "metadata": {
        "id": "lHKB7Na-skdb"
      },
      "execution_count": null,
      "outputs": []
    },
    {
      "cell_type": "markdown",
      "source": [
        "#### Chat"
      ],
      "metadata": {
        "id": "85hfoJBuvXXZ"
      }
    },
    {
      "cell_type": "code",
      "source": [
        "from langchain.chat_models import ChatOpenAI\n",
        "from langchain.schema import SystemMessage, HumanMessage, AIMessage"
      ],
      "metadata": {
        "id": "17LaEmucqqZF"
      },
      "execution_count": null,
      "outputs": []
    },
    {
      "cell_type": "code",
      "source": [
        "openai_api_key = userdata.get('OPENAI_API_KEY')"
      ],
      "metadata": {
        "id": "HeONxiiT7rY7"
      },
      "execution_count": null,
      "outputs": []
    },
    {
      "cell_type": "code",
      "source": [
        "chat = ChatOpenAI(model_name='gpt-3.5-turbo', openai_api_key=openai_api_key, temperature=0.5)"
      ],
      "metadata": {
        "id": "a8Qv5DeUqxVU"
      },
      "execution_count": null,
      "outputs": []
    },
    {
      "cell_type": "code",
      "source": [
        "messages = [\n",
        "    SystemMessage(content='أنت معالج نفسي. اسمك تشيزلونج ويمكن أن ندعوك تشيز فقط. ستساعدني في تخطي الأوقات الصعبة وتزويدي بمعلومات صحية. ابدأ بقول \"السلام عليكم\" ثم تعريف نفسك.')\n",
        "]"
      ],
      "metadata": {
        "id": "T7bH8968QGoc"
      },
      "execution_count": null,
      "outputs": []
    },
    {
      "cell_type": "code",
      "source": [
        "# Without Augmented Prompt\n",
        "for i in range(3):\n",
        "    ai_response = chat(messages)\n",
        "    print(\"تشيز: \" + ai_response.content)\n",
        "    messages.append(ai_response)\n",
        "\n",
        "    user_response = HumanMessage(\n",
        "        content = input(\"أنت: \")\n",
        "        )\n",
        "    messages.append(user_response)"
      ],
      "metadata": {
        "colab": {
          "base_uri": "https://localhost:8080/"
        },
        "id": "rFng-PO38U5m",
        "outputId": "c706d690-0560-42a7-dc4e-5904928f377e"
      },
      "execution_count": null,
      "outputs": [
        {
          "name": "stdout",
          "output_type": "stream",
          "text": [
            "تشيز: السلام عليكم! أنا تشيز، معالج نفسي افتراضي. أنا هنا لمساعدتك في تحسين صحتك العقلية والعاطفية وتقديم الدعم والمشورة في الأوقات الصعبة. سواء كنت تواجه تحديات في العمل، أو العلاقات الشخصية، أو تعاني من القلق أو الاكتئاب، فأنا هنا للاستماع وتقديم المساعدة. فما الذي يمكنني مساعدتك به اليوم؟\n",
            "أنت: ما هو أسلوب الدقيقة الواحدة في تربية الأطفال؟\n",
            "تشيز: أسلوب الدقيقة الواحدة في تربية الأطفال هو نهج يركز على تخصيص دقيقة واحدة من الوقت والاهتمام الحصري للطفل. يعتبر هذا الأسلوب فعالًا في بناء العلاقة الوثيقة وتعزيز الثقة بين الوالدين والأطفال. إليك بعض الخطوات التي يمكن اتباعها في تطبيق الدقيقة الواحدة:\n",
            "\n",
            "1. اختر وقتًا هادئًا: حدد وقتًا يوميًا لتكريس دقيقة واحدة للتفاعل المركز مع طفلك. قد يكون هذا قبل النوم أو عندما يعود الطفل من المدرسة.\n",
            "\n",
            "2. التركيز الكامل: اجعل الطفل يشعر بأنك تعطيه اهتمامًا كاملاً خلال هذه الدقيقة. قم بتوجيه انتباهك إلى الطفل وتجنب التشتت أو التشغيل الجانبي.\n",
            "\n",
            "3. الاستماع الفعّال: استمع بانتباه واهتمام حقيقي لما يقوله الطفل. حاول فهم مشاعره واحتياجاته وتعبيراته اللفظية وغير اللفظية.\n",
            "\n",
            "4. التفاعل الإيجابي: استخدم لغة الجسد والتعابير الإيجابية للتواصل مع الطفل. يمكنك أن تبتسم أو تعبّر عن اهتمامك بالموضوع الذي يتحدث عنه الطفل.\n",
            "\n",
            "5. تعزيز الثقة والمودة: اعبر عن حبك وتقديرك للطفل. قد تقول عبارات مثل \"أحبك\" أو \"أنا فخور بك\". هذا يعزز الثقة والشعور بالأمان لدى الطفل.\n",
            "\n",
            "يمكن أن يكون الدقيقة الواحدة فرصة رائعة لتعزيز العلاقة بينك وبين طفلك وتعزيز صحتهم العاطفية. تذكر أن الاستمرار في هذا النهج يمكن أن يؤدي إلى فوائد طويلة الأمد في تربية الأطفال.\n",
            "أنت: هل تذكر سؤالي السابق؟ ما هو؟ لخص إجابتك عليه\n",
            "تشيز: نعم، أتذكر سؤالك السابق. كنت تسأل عن أسلوب الدقيقة الواحدة في تربية الأطفال. في إجابتي السابقة، شرحت أن الدقيقة الواحدة هي نهج يركز على تخصيص دقيقة واحدة من الوقت والاهتمام الحصري للطفل. يهدف هذا الأسلوب إلى بناء العلاقة الوثيقة وتعزيز الثقة بين الوالدين والأطفال. يتضمن تطبيق الدقيقة الواحدة اختيار وقت هادئ، التركيز الكامل، الاستماع الفعّال، التفاعل الإيجابي، وتعزيز الثقة والمودة.\n",
            "أنت: شكرًا\n"
          ]
        }
      ]
    },
    {
      "cell_type": "code",
      "source": [
        "messages = [\n",
        "    SystemMessage(content='أنت معالج نفسي. اسمك تشيزلونج ويمكن أن ندعوك تشيز فقط. ستساعدني في تخطي الأوقات الصعبة وتزويدي بمعلومات صحية. ابدأ بقول \"السلام عليكم\" ثم تعريف نفسك.')\n",
        "]"
      ],
      "metadata": {
        "id": "VAJltylPC5f9"
      },
      "execution_count": null,
      "outputs": []
    },
    {
      "cell_type": "code",
      "source": [
        "# With Augmentated Prompt\n",
        "for i in range(3):\n",
        "    ai_response = chat(messages)\n",
        "    print(\"تشيز: \" + ai_response.content)\n",
        "    messages.append(ai_response)\n",
        "\n",
        "    user_response = HumanMessage(\n",
        "        content = augment_prompt(input(\"أنت: \"))\n",
        "        )\n",
        "    messages.append(user_response)"
      ],
      "metadata": {
        "colab": {
          "base_uri": "https://localhost:8080/",
          "height": 566
        },
        "id": "h3uLl_8du0HA",
        "outputId": "dcc5ded0-81ef-4752-ff91-841bc88bec3a"
      },
      "execution_count": null,
      "outputs": [
        {
          "name": "stdout",
          "output_type": "stream",
          "text": [
            "تشيز: السلام عليكم! أنا تشيز، معالج نفسي افتراضي جاهز لمساعدتك في أي وقت. لدي خبرة في مجال الصحة العقلية والعاطفية، وأنا هنا للاستماع وتقديم الدعم والمشورة. سواء كنت تحتاج إلى الحديث عن مشكلة معينة، أو ترغب في معرفة المزيد عن الصحة العقلية بشكل عام، فأنا هنا لمساعدتك. فقط اسأل ما تريد، وسأكون سعيدًا بمساعدتك.\n",
            "أنت: ما هو أسلوب الدقيقة الواحدة في تربية الأطفال؟\n",
            "تشيز: أسلوب الدقيقة الواحدة في تربية الأطفال هو أسلوب حديث يهدف إلى التعامل مع سلوك الأطفال السلبي بطريقة فعالة ومحبة في دقيقة واحدة فقط. يعتمد هذا الأسلوب على جعل الأطفال يشعرون بعدم الرضا عن تصرفهم الخاطئ، ولكن بالرضا عن أنفسهم. يتم ذلك من خلال التعبير بصدق عن مشاعر الغضب والحزن تجاه سلوك الطفل، ثم تأكيد حبك وتقديم الدعم بعد ذلك. يتم تطبيق هذا الأسلوب من خلال تحديد السلوك السلبي والتعبير عن الغضب والحزن بوضوح في النصف الأول من الدقيقة، ثم التركيز على الهدوء وتقديم الدعم والمحبة في النصف الثاني من الدقيقة.\n",
            "\n",
            "على سبيل المثال، إذا عاد ابنك متأخرا إلى البيت، يمكنك النظر إلى عينيه مباشرة وقول له بصراحة أنك غاضب منه وحزين لأنه كرر تأخره. ثم يمكنك التعبير عن حبك له وأنك تعرف أنه شخص طيب، لكنك غير راض عن سلوكه في تلك الليلة. يمكنك أيضًا أن تحتضنه بقوة ليشعر بالدعم والمحبة.\n",
            "\n",
            "تطبيق هذا الأسلوب يساعد الأطفال على التعرف على تأثير تصرفاتهم السلبية ويعزز فيهم الشعور بالمسؤولية والتعاون. كما يعمل على تعزيز الثقة بينك وبين طفلك ويجعله يدرك أن سلوكه السلبي لن يمر دون حساب.\n",
            "أنت: هل تذكر سؤالي السابق؟ ما هو؟ لخص إجابتك عليه\n"
          ]
        },
        {
          "output_type": "error",
          "ename": "BadRequestError",
          "evalue": "Error code: 400 - {'error': {'message': \"This model's maximum context length is 4097 tokens. However, your messages resulted in 5861 tokens. Please reduce the length of the messages.\", 'type': 'invalid_request_error', 'param': 'messages', 'code': 'context_length_exceeded'}}",
          "traceback": [
            "\u001b[0;31m---------------------------------------------------------------------------\u001b[0m",
            "\u001b[0;31mBadRequestError\u001b[0m                           Traceback (most recent call last)",
            "\u001b[0;32m<ipython-input-55-cbdcaa5bbda0>\u001b[0m in \u001b[0;36m<cell line: 2>\u001b[0;34m()\u001b[0m\n\u001b[1;32m      1\u001b[0m \u001b[0;31m# With Augmentated Prompt\u001b[0m\u001b[0;34m\u001b[0m\u001b[0;34m\u001b[0m\u001b[0m\n\u001b[1;32m      2\u001b[0m \u001b[0;32mfor\u001b[0m \u001b[0mi\u001b[0m \u001b[0;32min\u001b[0m \u001b[0mrange\u001b[0m\u001b[0;34m(\u001b[0m\u001b[0;36m3\u001b[0m\u001b[0;34m)\u001b[0m\u001b[0;34m:\u001b[0m\u001b[0;34m\u001b[0m\u001b[0;34m\u001b[0m\u001b[0m\n\u001b[0;32m----> 3\u001b[0;31m     \u001b[0mai_response\u001b[0m \u001b[0;34m=\u001b[0m \u001b[0mchat\u001b[0m\u001b[0;34m(\u001b[0m\u001b[0mmessages\u001b[0m\u001b[0;34m)\u001b[0m\u001b[0;34m\u001b[0m\u001b[0;34m\u001b[0m\u001b[0m\n\u001b[0m\u001b[1;32m      4\u001b[0m     \u001b[0mprint\u001b[0m\u001b[0;34m(\u001b[0m\u001b[0;34m\"تشيز: \"\u001b[0m \u001b[0;34m+\u001b[0m \u001b[0mai_response\u001b[0m\u001b[0;34m.\u001b[0m\u001b[0mcontent\u001b[0m\u001b[0;34m)\u001b[0m\u001b[0;34m\u001b[0m\u001b[0;34m\u001b[0m\u001b[0m\n\u001b[1;32m      5\u001b[0m     \u001b[0mmessages\u001b[0m\u001b[0;34m.\u001b[0m\u001b[0mappend\u001b[0m\u001b[0;34m(\u001b[0m\u001b[0mai_response\u001b[0m\u001b[0;34m)\u001b[0m\u001b[0;34m\u001b[0m\u001b[0;34m\u001b[0m\u001b[0m\n",
            "\u001b[0;32m/usr/local/lib/python3.10/dist-packages/langchain_core/_api/deprecation.py\u001b[0m in \u001b[0;36mwarning_emitting_wrapper\u001b[0;34m(*args, **kwargs)\u001b[0m\n\u001b[1;32m    143\u001b[0m                 \u001b[0mwarned\u001b[0m \u001b[0;34m=\u001b[0m \u001b[0;32mTrue\u001b[0m\u001b[0;34m\u001b[0m\u001b[0;34m\u001b[0m\u001b[0m\n\u001b[1;32m    144\u001b[0m                 \u001b[0memit_warning\u001b[0m\u001b[0;34m(\u001b[0m\u001b[0;34m)\u001b[0m\u001b[0;34m\u001b[0m\u001b[0;34m\u001b[0m\u001b[0m\n\u001b[0;32m--> 145\u001b[0;31m             \u001b[0;32mreturn\u001b[0m \u001b[0mwrapped\u001b[0m\u001b[0;34m(\u001b[0m\u001b[0;34m*\u001b[0m\u001b[0margs\u001b[0m\u001b[0;34m,\u001b[0m \u001b[0;34m**\u001b[0m\u001b[0mkwargs\u001b[0m\u001b[0;34m)\u001b[0m\u001b[0;34m\u001b[0m\u001b[0;34m\u001b[0m\u001b[0m\n\u001b[0m\u001b[1;32m    146\u001b[0m \u001b[0;34m\u001b[0m\u001b[0m\n\u001b[1;32m    147\u001b[0m         \u001b[0;32masync\u001b[0m \u001b[0;32mdef\u001b[0m \u001b[0mawarning_emitting_wrapper\u001b[0m\u001b[0;34m(\u001b[0m\u001b[0;34m*\u001b[0m\u001b[0margs\u001b[0m\u001b[0;34m:\u001b[0m \u001b[0mAny\u001b[0m\u001b[0;34m,\u001b[0m \u001b[0;34m**\u001b[0m\u001b[0mkwargs\u001b[0m\u001b[0;34m:\u001b[0m \u001b[0mAny\u001b[0m\u001b[0;34m)\u001b[0m \u001b[0;34m->\u001b[0m \u001b[0mAny\u001b[0m\u001b[0;34m:\u001b[0m\u001b[0;34m\u001b[0m\u001b[0;34m\u001b[0m\u001b[0m\n",
            "\u001b[0;32m/usr/local/lib/python3.10/dist-packages/langchain_core/language_models/chat_models.py\u001b[0m in \u001b[0;36m__call__\u001b[0;34m(self, messages, stop, callbacks, **kwargs)\u001b[0m\n\u001b[1;32m    689\u001b[0m         \u001b[0;34m**\u001b[0m\u001b[0mkwargs\u001b[0m\u001b[0;34m:\u001b[0m \u001b[0mAny\u001b[0m\u001b[0;34m,\u001b[0m\u001b[0;34m\u001b[0m\u001b[0;34m\u001b[0m\u001b[0m\n\u001b[1;32m    690\u001b[0m     ) -> BaseMessage:\n\u001b[0;32m--> 691\u001b[0;31m         generation = self.generate(\n\u001b[0m\u001b[1;32m    692\u001b[0m             \u001b[0;34m[\u001b[0m\u001b[0mmessages\u001b[0m\u001b[0;34m]\u001b[0m\u001b[0;34m,\u001b[0m \u001b[0mstop\u001b[0m\u001b[0;34m=\u001b[0m\u001b[0mstop\u001b[0m\u001b[0;34m,\u001b[0m \u001b[0mcallbacks\u001b[0m\u001b[0;34m=\u001b[0m\u001b[0mcallbacks\u001b[0m\u001b[0;34m,\u001b[0m \u001b[0;34m**\u001b[0m\u001b[0mkwargs\u001b[0m\u001b[0;34m\u001b[0m\u001b[0;34m\u001b[0m\u001b[0m\n\u001b[1;32m    693\u001b[0m         ).generations[0][0]\n",
            "\u001b[0;32m/usr/local/lib/python3.10/dist-packages/langchain_core/language_models/chat_models.py\u001b[0m in \u001b[0;36mgenerate\u001b[0;34m(self, messages, stop, callbacks, tags, metadata, run_name, **kwargs)\u001b[0m\n\u001b[1;32m    406\u001b[0m                 \u001b[0;32mif\u001b[0m \u001b[0mrun_managers\u001b[0m\u001b[0;34m:\u001b[0m\u001b[0;34m\u001b[0m\u001b[0;34m\u001b[0m\u001b[0m\n\u001b[1;32m    407\u001b[0m                     \u001b[0mrun_managers\u001b[0m\u001b[0;34m[\u001b[0m\u001b[0mi\u001b[0m\u001b[0;34m]\u001b[0m\u001b[0;34m.\u001b[0m\u001b[0mon_llm_error\u001b[0m\u001b[0;34m(\u001b[0m\u001b[0me\u001b[0m\u001b[0;34m,\u001b[0m \u001b[0mresponse\u001b[0m\u001b[0;34m=\u001b[0m\u001b[0mLLMResult\u001b[0m\u001b[0;34m(\u001b[0m\u001b[0mgenerations\u001b[0m\u001b[0;34m=\u001b[0m\u001b[0;34m[\u001b[0m\u001b[0;34m]\u001b[0m\u001b[0;34m)\u001b[0m\u001b[0;34m)\u001b[0m\u001b[0;34m\u001b[0m\u001b[0;34m\u001b[0m\u001b[0m\n\u001b[0;32m--> 408\u001b[0;31m                 \u001b[0;32mraise\u001b[0m \u001b[0me\u001b[0m\u001b[0;34m\u001b[0m\u001b[0;34m\u001b[0m\u001b[0m\n\u001b[0m\u001b[1;32m    409\u001b[0m         flattened_outputs = [\n\u001b[1;32m    410\u001b[0m             \u001b[0mLLMResult\u001b[0m\u001b[0;34m(\u001b[0m\u001b[0mgenerations\u001b[0m\u001b[0;34m=\u001b[0m\u001b[0;34m[\u001b[0m\u001b[0mres\u001b[0m\u001b[0;34m.\u001b[0m\u001b[0mgenerations\u001b[0m\u001b[0;34m]\u001b[0m\u001b[0;34m,\u001b[0m \u001b[0mllm_output\u001b[0m\u001b[0;34m=\u001b[0m\u001b[0mres\u001b[0m\u001b[0;34m.\u001b[0m\u001b[0mllm_output\u001b[0m\u001b[0;34m)\u001b[0m\u001b[0;34m\u001b[0m\u001b[0;34m\u001b[0m\u001b[0m\n",
            "\u001b[0;32m/usr/local/lib/python3.10/dist-packages/langchain_core/language_models/chat_models.py\u001b[0m in \u001b[0;36mgenerate\u001b[0;34m(self, messages, stop, callbacks, tags, metadata, run_name, **kwargs)\u001b[0m\n\u001b[1;32m    396\u001b[0m             \u001b[0;32mtry\u001b[0m\u001b[0;34m:\u001b[0m\u001b[0;34m\u001b[0m\u001b[0;34m\u001b[0m\u001b[0m\n\u001b[1;32m    397\u001b[0m                 results.append(\n\u001b[0;32m--> 398\u001b[0;31m                     self._generate_with_cache(\n\u001b[0m\u001b[1;32m    399\u001b[0m                         \u001b[0mm\u001b[0m\u001b[0;34m,\u001b[0m\u001b[0;34m\u001b[0m\u001b[0;34m\u001b[0m\u001b[0m\n\u001b[1;32m    400\u001b[0m                         \u001b[0mstop\u001b[0m\u001b[0;34m=\u001b[0m\u001b[0mstop\u001b[0m\u001b[0;34m,\u001b[0m\u001b[0;34m\u001b[0m\u001b[0;34m\u001b[0m\u001b[0m\n",
            "\u001b[0;32m/usr/local/lib/python3.10/dist-packages/langchain_core/language_models/chat_models.py\u001b[0m in \u001b[0;36m_generate_with_cache\u001b[0;34m(self, messages, stop, run_manager, **kwargs)\u001b[0m\n\u001b[1;32m    575\u001b[0m                 )\n\u001b[1;32m    576\u001b[0m             \u001b[0;32mif\u001b[0m \u001b[0mnew_arg_supported\u001b[0m\u001b[0;34m:\u001b[0m\u001b[0;34m\u001b[0m\u001b[0;34m\u001b[0m\u001b[0m\n\u001b[0;32m--> 577\u001b[0;31m                 return self._generate(\n\u001b[0m\u001b[1;32m    578\u001b[0m                     \u001b[0mmessages\u001b[0m\u001b[0;34m,\u001b[0m \u001b[0mstop\u001b[0m\u001b[0;34m=\u001b[0m\u001b[0mstop\u001b[0m\u001b[0;34m,\u001b[0m \u001b[0mrun_manager\u001b[0m\u001b[0;34m=\u001b[0m\u001b[0mrun_manager\u001b[0m\u001b[0;34m,\u001b[0m \u001b[0;34m**\u001b[0m\u001b[0mkwargs\u001b[0m\u001b[0;34m\u001b[0m\u001b[0;34m\u001b[0m\u001b[0m\n\u001b[1;32m    579\u001b[0m                 )\n",
            "\u001b[0;32m/usr/local/lib/python3.10/dist-packages/langchain_community/chat_models/openai.py\u001b[0m in \u001b[0;36m_generate\u001b[0;34m(self, messages, stop, run_manager, stream, **kwargs)\u001b[0m\n\u001b[1;32m    437\u001b[0m             \u001b[0;34m**\u001b[0m\u001b[0mkwargs\u001b[0m\u001b[0;34m,\u001b[0m\u001b[0;34m\u001b[0m\u001b[0;34m\u001b[0m\u001b[0m\n\u001b[1;32m    438\u001b[0m         }\n\u001b[0;32m--> 439\u001b[0;31m         response = self.completion_with_retry(\n\u001b[0m\u001b[1;32m    440\u001b[0m             \u001b[0mmessages\u001b[0m\u001b[0;34m=\u001b[0m\u001b[0mmessage_dicts\u001b[0m\u001b[0;34m,\u001b[0m \u001b[0mrun_manager\u001b[0m\u001b[0;34m=\u001b[0m\u001b[0mrun_manager\u001b[0m\u001b[0;34m,\u001b[0m \u001b[0;34m**\u001b[0m\u001b[0mparams\u001b[0m\u001b[0;34m\u001b[0m\u001b[0;34m\u001b[0m\u001b[0m\n\u001b[1;32m    441\u001b[0m         )\n",
            "\u001b[0;32m/usr/local/lib/python3.10/dist-packages/langchain_community/chat_models/openai.py\u001b[0m in \u001b[0;36mcompletion_with_retry\u001b[0;34m(self, run_manager, **kwargs)\u001b[0m\n\u001b[1;32m    354\u001b[0m         \u001b[0;34m\"\"\"Use tenacity to retry the completion call.\"\"\"\u001b[0m\u001b[0;34m\u001b[0m\u001b[0;34m\u001b[0m\u001b[0m\n\u001b[1;32m    355\u001b[0m         \u001b[0;32mif\u001b[0m \u001b[0mis_openai_v1\u001b[0m\u001b[0;34m(\u001b[0m\u001b[0;34m)\u001b[0m\u001b[0;34m:\u001b[0m\u001b[0;34m\u001b[0m\u001b[0;34m\u001b[0m\u001b[0m\n\u001b[0;32m--> 356\u001b[0;31m             \u001b[0;32mreturn\u001b[0m \u001b[0mself\u001b[0m\u001b[0;34m.\u001b[0m\u001b[0mclient\u001b[0m\u001b[0;34m.\u001b[0m\u001b[0mcreate\u001b[0m\u001b[0;34m(\u001b[0m\u001b[0;34m**\u001b[0m\u001b[0mkwargs\u001b[0m\u001b[0;34m)\u001b[0m\u001b[0;34m\u001b[0m\u001b[0;34m\u001b[0m\u001b[0m\n\u001b[0m\u001b[1;32m    357\u001b[0m \u001b[0;34m\u001b[0m\u001b[0m\n\u001b[1;32m    358\u001b[0m         \u001b[0mretry_decorator\u001b[0m \u001b[0;34m=\u001b[0m \u001b[0m_create_retry_decorator\u001b[0m\u001b[0;34m(\u001b[0m\u001b[0mself\u001b[0m\u001b[0;34m,\u001b[0m \u001b[0mrun_manager\u001b[0m\u001b[0;34m=\u001b[0m\u001b[0mrun_manager\u001b[0m\u001b[0;34m)\u001b[0m\u001b[0;34m\u001b[0m\u001b[0;34m\u001b[0m\u001b[0m\n",
            "\u001b[0;32m/usr/local/lib/python3.10/dist-packages/openai/_utils/_utils.py\u001b[0m in \u001b[0;36mwrapper\u001b[0;34m(*args, **kwargs)\u001b[0m\n\u001b[1;32m    273\u001b[0m                         \u001b[0mmsg\u001b[0m \u001b[0;34m=\u001b[0m \u001b[0;34mf\"Missing required argument: {quote(missing[0])}\"\u001b[0m\u001b[0;34m\u001b[0m\u001b[0;34m\u001b[0m\u001b[0m\n\u001b[1;32m    274\u001b[0m                 \u001b[0;32mraise\u001b[0m \u001b[0mTypeError\u001b[0m\u001b[0;34m(\u001b[0m\u001b[0mmsg\u001b[0m\u001b[0;34m)\u001b[0m\u001b[0;34m\u001b[0m\u001b[0;34m\u001b[0m\u001b[0m\n\u001b[0;32m--> 275\u001b[0;31m             \u001b[0;32mreturn\u001b[0m \u001b[0mfunc\u001b[0m\u001b[0;34m(\u001b[0m\u001b[0;34m*\u001b[0m\u001b[0margs\u001b[0m\u001b[0;34m,\u001b[0m \u001b[0;34m**\u001b[0m\u001b[0mkwargs\u001b[0m\u001b[0;34m)\u001b[0m\u001b[0;34m\u001b[0m\u001b[0;34m\u001b[0m\u001b[0m\n\u001b[0m\u001b[1;32m    276\u001b[0m \u001b[0;34m\u001b[0m\u001b[0m\n\u001b[1;32m    277\u001b[0m         \u001b[0;32mreturn\u001b[0m \u001b[0mwrapper\u001b[0m  \u001b[0;31m# type: ignore\u001b[0m\u001b[0;34m\u001b[0m\u001b[0;34m\u001b[0m\u001b[0m\n",
            "\u001b[0;32m/usr/local/lib/python3.10/dist-packages/openai/resources/chat/completions.py\u001b[0m in \u001b[0;36mcreate\u001b[0;34m(self, messages, model, frequency_penalty, function_call, functions, logit_bias, logprobs, max_tokens, n, presence_penalty, response_format, seed, stop, stream, temperature, tool_choice, tools, top_logprobs, top_p, user, extra_headers, extra_query, extra_body, timeout)\u001b[0m\n\u001b[1;32m    661\u001b[0m         \u001b[0mtimeout\u001b[0m\u001b[0;34m:\u001b[0m \u001b[0mfloat\u001b[0m \u001b[0;34m|\u001b[0m \u001b[0mhttpx\u001b[0m\u001b[0;34m.\u001b[0m\u001b[0mTimeout\u001b[0m \u001b[0;34m|\u001b[0m \u001b[0;32mNone\u001b[0m \u001b[0;34m|\u001b[0m \u001b[0mNotGiven\u001b[0m \u001b[0;34m=\u001b[0m \u001b[0mNOT_GIVEN\u001b[0m\u001b[0;34m,\u001b[0m\u001b[0;34m\u001b[0m\u001b[0;34m\u001b[0m\u001b[0m\n\u001b[1;32m    662\u001b[0m     ) -> ChatCompletion | Stream[ChatCompletionChunk]:\n\u001b[0;32m--> 663\u001b[0;31m         return self._post(\n\u001b[0m\u001b[1;32m    664\u001b[0m             \u001b[0;34m\"/chat/completions\"\u001b[0m\u001b[0;34m,\u001b[0m\u001b[0;34m\u001b[0m\u001b[0;34m\u001b[0m\u001b[0m\n\u001b[1;32m    665\u001b[0m             body=maybe_transform(\n",
            "\u001b[0;32m/usr/local/lib/python3.10/dist-packages/openai/_base_client.py\u001b[0m in \u001b[0;36mpost\u001b[0;34m(self, path, cast_to, body, options, files, stream, stream_cls)\u001b[0m\n\u001b[1;32m   1198\u001b[0m             \u001b[0mmethod\u001b[0m\u001b[0;34m=\u001b[0m\u001b[0;34m\"post\"\u001b[0m\u001b[0;34m,\u001b[0m \u001b[0murl\u001b[0m\u001b[0;34m=\u001b[0m\u001b[0mpath\u001b[0m\u001b[0;34m,\u001b[0m \u001b[0mjson_data\u001b[0m\u001b[0;34m=\u001b[0m\u001b[0mbody\u001b[0m\u001b[0;34m,\u001b[0m \u001b[0mfiles\u001b[0m\u001b[0;34m=\u001b[0m\u001b[0mto_httpx_files\u001b[0m\u001b[0;34m(\u001b[0m\u001b[0mfiles\u001b[0m\u001b[0;34m)\u001b[0m\u001b[0;34m,\u001b[0m \u001b[0;34m**\u001b[0m\u001b[0moptions\u001b[0m\u001b[0;34m\u001b[0m\u001b[0;34m\u001b[0m\u001b[0m\n\u001b[1;32m   1199\u001b[0m         )\n\u001b[0;32m-> 1200\u001b[0;31m         \u001b[0;32mreturn\u001b[0m \u001b[0mcast\u001b[0m\u001b[0;34m(\u001b[0m\u001b[0mResponseT\u001b[0m\u001b[0;34m,\u001b[0m \u001b[0mself\u001b[0m\u001b[0;34m.\u001b[0m\u001b[0mrequest\u001b[0m\u001b[0;34m(\u001b[0m\u001b[0mcast_to\u001b[0m\u001b[0;34m,\u001b[0m \u001b[0mopts\u001b[0m\u001b[0;34m,\u001b[0m \u001b[0mstream\u001b[0m\u001b[0;34m=\u001b[0m\u001b[0mstream\u001b[0m\u001b[0;34m,\u001b[0m \u001b[0mstream_cls\u001b[0m\u001b[0;34m=\u001b[0m\u001b[0mstream_cls\u001b[0m\u001b[0;34m)\u001b[0m\u001b[0;34m)\u001b[0m\u001b[0;34m\u001b[0m\u001b[0;34m\u001b[0m\u001b[0m\n\u001b[0m\u001b[1;32m   1201\u001b[0m \u001b[0;34m\u001b[0m\u001b[0m\n\u001b[1;32m   1202\u001b[0m     def patch(\n",
            "\u001b[0;32m/usr/local/lib/python3.10/dist-packages/openai/_base_client.py\u001b[0m in \u001b[0;36mrequest\u001b[0;34m(self, cast_to, options, remaining_retries, stream, stream_cls)\u001b[0m\n\u001b[1;32m    887\u001b[0m         \u001b[0mstream_cls\u001b[0m\u001b[0;34m:\u001b[0m \u001b[0mtype\u001b[0m\u001b[0;34m[\u001b[0m\u001b[0m_StreamT\u001b[0m\u001b[0;34m]\u001b[0m \u001b[0;34m|\u001b[0m \u001b[0;32mNone\u001b[0m \u001b[0;34m=\u001b[0m \u001b[0;32mNone\u001b[0m\u001b[0;34m,\u001b[0m\u001b[0;34m\u001b[0m\u001b[0;34m\u001b[0m\u001b[0m\n\u001b[1;32m    888\u001b[0m     ) -> ResponseT | _StreamT:\n\u001b[0;32m--> 889\u001b[0;31m         return self._request(\n\u001b[0m\u001b[1;32m    890\u001b[0m             \u001b[0mcast_to\u001b[0m\u001b[0;34m=\u001b[0m\u001b[0mcast_to\u001b[0m\u001b[0;34m,\u001b[0m\u001b[0;34m\u001b[0m\u001b[0;34m\u001b[0m\u001b[0m\n\u001b[1;32m    891\u001b[0m             \u001b[0moptions\u001b[0m\u001b[0;34m=\u001b[0m\u001b[0moptions\u001b[0m\u001b[0;34m,\u001b[0m\u001b[0;34m\u001b[0m\u001b[0;34m\u001b[0m\u001b[0m\n",
            "\u001b[0;32m/usr/local/lib/python3.10/dist-packages/openai/_base_client.py\u001b[0m in \u001b[0;36m_request\u001b[0;34m(self, cast_to, options, remaining_retries, stream, stream_cls)\u001b[0m\n\u001b[1;32m    978\u001b[0m \u001b[0;34m\u001b[0m\u001b[0m\n\u001b[1;32m    979\u001b[0m             \u001b[0mlog\u001b[0m\u001b[0;34m.\u001b[0m\u001b[0mdebug\u001b[0m\u001b[0;34m(\u001b[0m\u001b[0;34m\"Re-raising status error\"\u001b[0m\u001b[0;34m)\u001b[0m\u001b[0;34m\u001b[0m\u001b[0;34m\u001b[0m\u001b[0m\n\u001b[0;32m--> 980\u001b[0;31m             \u001b[0;32mraise\u001b[0m \u001b[0mself\u001b[0m\u001b[0;34m.\u001b[0m\u001b[0m_make_status_error_from_response\u001b[0m\u001b[0;34m(\u001b[0m\u001b[0merr\u001b[0m\u001b[0;34m.\u001b[0m\u001b[0mresponse\u001b[0m\u001b[0;34m)\u001b[0m \u001b[0;32mfrom\u001b[0m \u001b[0;32mNone\u001b[0m\u001b[0;34m\u001b[0m\u001b[0;34m\u001b[0m\u001b[0m\n\u001b[0m\u001b[1;32m    981\u001b[0m \u001b[0;34m\u001b[0m\u001b[0m\n\u001b[1;32m    982\u001b[0m         return self._process_response(\n",
            "\u001b[0;31mBadRequestError\u001b[0m: Error code: 400 - {'error': {'message': \"This model's maximum context length is 4097 tokens. However, your messages resulted in 5861 tokens. Please reduce the length of the messages.\", 'type': 'invalid_request_error', 'param': 'messages', 'code': 'context_length_exceeded'}}"
          ]
        }
      ]
    }
  ]
}